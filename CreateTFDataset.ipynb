{
  "nbformat": 4,
  "nbformat_minor": 0,
  "metadata": {
    "colab": {
      "name": "CreateTFDataset.ipynb",
      "provenance": [],
      "mount_file_id": "1ISMZNzOe2Y5vbkxkFLAQ1lTxy7jgyrSK",
      "authorship_tag": "ABX9TyPctZPeOAnWv8f63i2Krq+q",
      "include_colab_link": true
    },
    "kernelspec": {
      "name": "python3",
      "display_name": "Python 3"
    },
    "language_info": {
      "name": "python"
    }
  },
  "cells": [
    {
      "cell_type": "markdown",
      "metadata": {
        "id": "view-in-github",
        "colab_type": "text"
      },
      "source": [
        "<a href=\"https://colab.research.google.com/github/tomasmuzas/MasterThesis/blob/main/CreateTFDataset.ipynb\" target=\"_parent\"><img src=\"https://colab.research.google.com/assets/colab-badge.svg\" alt=\"Open In Colab\"/></a>"
      ]
    },
    {
      "cell_type": "code",
      "metadata": {
        "id": "Pr49SIehMQb7"
      },
      "source": [
        "from tensorflow.keras.models import Sequential\n",
        "from tensorflow.keras.layers import Dense, Flatten, Dropout\n",
        "from tensorflow.keras.layers import Conv2D, MaxPooling2D\n",
        "from tensorflow.keras.initializers import VarianceScaling\n",
        "import tensorflow.keras\n",
        "from tensorflow.keras import optimizers\n",
        "import tensorflow as tf\n",
        "import tensorflow_datasets as tfds\n",
        "from tensorflow.keras.applications import ResNet50\n",
        "from tensorflow.keras.applications.inception_resnet_v2 import InceptionResNetV2\n",
        "from tensorflow.keras.applications.inception_v3 import InceptionV3\n",
        "from tensorflow.keras.applications.resnet import ResNet101\n",
        "from tqdm.notebook import tqdm\n",
        "import numpy as np"
      ],
      "execution_count": 1,
      "outputs": []
    },
    {
      "cell_type": "code",
      "metadata": {
        "id": "X7sGIIOUMaO9"
      },
      "source": [
        "from google.colab import auth\n",
        "auth.authenticate_user()"
      ],
      "execution_count": 2,
      "outputs": []
    },
    {
      "cell_type": "code",
      "metadata": {
        "id": "c-fRJuNNMb9_"
      },
      "source": [
        "DATASET_NAME = \"GZ1_Unique_Validation\"\n",
        "GCS_OUTPUT = f'gs://tomasmuzasmaster2021/paper/tfrecords/{DATASET_NAME}'\n",
        "GCS_PATTERN = f'{DATASET_NAME}/*/*.jpg'\n",
        "AUTO = tf.data.experimental.AUTOTUNE\n",
        "CLASSES = [b'Spiral', b'Elliptical'] # -- binary\n",
        "# CLASSES = [b'Er', b'Ei', b'Ec'] # Elliptical only\n",
        "# CLASSES = [b'SB', b'S'] # Spiral binary only\n",
        "# CLASSES = [b'Er', b'Ei', b'Ec', b'SB', b'S'] # All combined"
      ],
      "execution_count": 9,
      "outputs": []
    },
    {
      "cell_type": "code",
      "metadata": {
        "colab": {
          "base_uri": "https://localhost:8080/"
        },
        "id": "KWSVm84i5UoF",
        "outputId": "7364b1e4-9b9d-4a40-9a01-242dda082af1"
      },
      "source": [
        "from google.colab import drive\n",
        "drive.mount('/content/drive')"
      ],
      "execution_count": 4,
      "outputs": [
        {
          "output_type": "stream",
          "name": "stdout",
          "text": [
            "Drive already mounted at /content/drive; to attempt to forcibly remount, call drive.mount(\"/content/drive\", force_remount=True).\n"
          ]
        }
      ]
    },
    {
      "cell_type": "code",
      "metadata": {
        "id": "zw3wEGK7MgjU",
        "colab": {
          "base_uri": "https://localhost:8080/"
        },
        "outputId": "b3924a2b-2980-454a-cc04-c370be46f182"
      },
      "source": [
        "%%bash -s \"$DATASET_NAME\"\n",
        "rsync -ah --progress drive/MyDrive/MTD/PaperDatasets/$1.zip $1.zip && unzip -q $1.zip"
      ],
      "execution_count": 10,
      "outputs": [
        {
          "output_type": "stream",
          "name": "stdout",
          "text": [
            "sending incremental file list\n",
            "GZ1_Unique_Validation.zip\n",
            "\r         32.77K   0%    0.00kB/s    0:00:00  \r         16.81M   8%   16.00MB/s    0:00:11  \r         40.14M  20%   19.11MB/s    0:00:08  \r        135.82M  68%   43.15MB/s    0:00:01  \r        198.28M 100%   53.12MB/s    0:00:03 (xfr#1, to-chk=0/1)\n"
          ]
        }
      ]
    },
    {
      "cell_type": "code",
      "metadata": {
        "id": "2HCk-4rMMkVg"
      },
      "source": [
        "import math\n",
        "\n",
        "def decode_jpeg_and_label(filename):\n",
        "  bits = tf.io.read_file(filename)\n",
        "  image = tf.image.decode_jpeg(bits)\n",
        "  label = tf.strings.split(tf.expand_dims(filename, axis=-1), sep='/')\n",
        "  label = label.values[-2]\n",
        "  return image, label\n",
        "\n",
        "def recompress_image(image, label):\n",
        "  height = tf.shape(image)[0]\n",
        "  width = tf.shape(image)[1]\n",
        "  image = tf.image.encode_jpeg(image, optimize_size=True, chroma_downsampling=False)\n",
        "  return image, label, height, width\n",
        "\n",
        "def _bytestring_feature(list_of_bytestrings):\n",
        "  return tf.train.Feature(bytes_list=tf.train.BytesList(value=list_of_bytestrings))\n",
        "\n",
        "def _int_feature(list_of_ints): # int64\n",
        "  return tf.train.Feature(int64_list=tf.train.Int64List(value=list_of_ints))\n",
        "\n",
        "def _float_feature(list_of_floats): # float32\n",
        "  return tf.train.Feature(float_list=tf.train.FloatList(value=list_of_floats))\n",
        "\n",
        "def to_tfrecord(tfrec_filewriter, img_bytes, label, height, width):  \n",
        "  class_num = np.argmax(np.array(CLASSES)==label) # 'roses' => 2 (order defined in CLASSES)\n",
        "  one_hot_class = np.eye(len(CLASSES))[class_num]     # [0, 0, 1, 0, 0] for class #2, roses\n",
        "\n",
        "  feature = {\n",
        "      \"image\": _bytestring_feature([img_bytes]), # one image in the list\n",
        "      \"class\": _int_feature([class_num]),        # one class in the list\n",
        "      \n",
        "      # additional (not very useful) fields to demonstrate TFRecord writing/reading of different types of data\n",
        "      \"label\":         _bytestring_feature([label]),          # fixed length (1) list of strings, the text label\n",
        "      \"size\":          _int_feature([height, width]),         # fixed length (2) list of ints\n",
        "      \"one_hot_class\": _float_feature(one_hot_class.tolist()) # variable length  list of floats, n=len(CLASSES)\n",
        "  }\n",
        "  return tf.train.Example(features=tf.train.Features(feature=feature))"
      ],
      "execution_count": 11,
      "outputs": []
    },
    {
      "cell_type": "code",
      "metadata": {
        "id": "vh4_ZzsTMnOU"
      },
      "source": [
        "def create_tf_record_dataset(filenames, name, items_per_record):\n",
        "  dataset2 = filenames.map(decode_jpeg_and_label, num_parallel_calls=AUTO)\n",
        "  dataset3 = dataset2.map(recompress_image, num_parallel_calls=AUTO)\n",
        "  dataset3 = dataset3.batch(items_per_record) # sharding: there will be one \"batch\" of images per file\n",
        "\n",
        "  print(\"Writing TFRecords\")\n",
        "  for shard, (image, label, height, width) in enumerate(dataset3):\n",
        "    # batch size used as shard size here\n",
        "    shard_size = image.numpy().shape[0]\n",
        "    # good practice to have the number of records in the filename\n",
        "    filename = GCS_OUTPUT + \"/{}/{:02d}-{}.tfrec\".format(name, shard, shard_size)\n",
        "    \n",
        "    np_image = image.numpy()\n",
        "    np_label = label.numpy()\n",
        "\n",
        "    with tf.io.TFRecordWriter(filename) as out_file:\n",
        "      for i in range(shard_size):\n",
        "        example = to_tfrecord(out_file,\n",
        "                              np_image[i], # re-compressed image: already a byte string\n",
        "                              np_label[i],\n",
        "                              height.numpy()[i],\n",
        "                              width.numpy()[i])\n",
        "        out_file.write(example.SerializeToString())\n",
        "      print(\"Wrote file {} containing {} records\".format(filename, shard_size))\n",
        "  print(\"Done.\")"
      ],
      "execution_count": 12,
      "outputs": []
    },
    {
      "cell_type": "code",
      "metadata": {
        "id": "Iuh6sM-vMo5Y",
        "colab": {
          "base_uri": "https://localhost:8080/"
        },
        "outputId": "03398d0d-73af-43e7-f836-4ed55fe84ef7"
      },
      "source": [
        "number_of_items = len(tf.io.gfile.glob(GCS_PATTERN))\n",
        "print(number_of_items)\n",
        "filenames = tf.data.Dataset.list_files(GCS_PATTERN, seed=777)\n",
        "\n",
        "create_tf_record_dataset(filenames, 'all', 1024)"
      ],
      "execution_count": 13,
      "outputs": [
        {
          "output_type": "stream",
          "name": "stdout",
          "text": [
            "101119\n",
            "Writing TFRecords\n",
            "Wrote file gs://tomasmuzasmaster2021/paper/tfrecords/GZ1_Unique_Validation/all/00-1024.tfrec containing 1024 records\n",
            "Wrote file gs://tomasmuzasmaster2021/paper/tfrecords/GZ1_Unique_Validation/all/01-1024.tfrec containing 1024 records\n",
            "Wrote file gs://tomasmuzasmaster2021/paper/tfrecords/GZ1_Unique_Validation/all/02-1024.tfrec containing 1024 records\n",
            "Wrote file gs://tomasmuzasmaster2021/paper/tfrecords/GZ1_Unique_Validation/all/03-1024.tfrec containing 1024 records\n",
            "Wrote file gs://tomasmuzasmaster2021/paper/tfrecords/GZ1_Unique_Validation/all/04-1024.tfrec containing 1024 records\n",
            "Wrote file gs://tomasmuzasmaster2021/paper/tfrecords/GZ1_Unique_Validation/all/05-1024.tfrec containing 1024 records\n",
            "Wrote file gs://tomasmuzasmaster2021/paper/tfrecords/GZ1_Unique_Validation/all/06-1024.tfrec containing 1024 records\n",
            "Wrote file gs://tomasmuzasmaster2021/paper/tfrecords/GZ1_Unique_Validation/all/07-1024.tfrec containing 1024 records\n",
            "Wrote file gs://tomasmuzasmaster2021/paper/tfrecords/GZ1_Unique_Validation/all/08-1024.tfrec containing 1024 records\n",
            "Wrote file gs://tomasmuzasmaster2021/paper/tfrecords/GZ1_Unique_Validation/all/09-1024.tfrec containing 1024 records\n",
            "Wrote file gs://tomasmuzasmaster2021/paper/tfrecords/GZ1_Unique_Validation/all/10-1024.tfrec containing 1024 records\n",
            "Wrote file gs://tomasmuzasmaster2021/paper/tfrecords/GZ1_Unique_Validation/all/11-1024.tfrec containing 1024 records\n",
            "Wrote file gs://tomasmuzasmaster2021/paper/tfrecords/GZ1_Unique_Validation/all/12-1024.tfrec containing 1024 records\n",
            "Wrote file gs://tomasmuzasmaster2021/paper/tfrecords/GZ1_Unique_Validation/all/13-1024.tfrec containing 1024 records\n",
            "Wrote file gs://tomasmuzasmaster2021/paper/tfrecords/GZ1_Unique_Validation/all/14-1024.tfrec containing 1024 records\n",
            "Wrote file gs://tomasmuzasmaster2021/paper/tfrecords/GZ1_Unique_Validation/all/15-1024.tfrec containing 1024 records\n",
            "Wrote file gs://tomasmuzasmaster2021/paper/tfrecords/GZ1_Unique_Validation/all/16-1024.tfrec containing 1024 records\n",
            "Wrote file gs://tomasmuzasmaster2021/paper/tfrecords/GZ1_Unique_Validation/all/17-1024.tfrec containing 1024 records\n",
            "Wrote file gs://tomasmuzasmaster2021/paper/tfrecords/GZ1_Unique_Validation/all/18-1024.tfrec containing 1024 records\n",
            "Wrote file gs://tomasmuzasmaster2021/paper/tfrecords/GZ1_Unique_Validation/all/19-1024.tfrec containing 1024 records\n",
            "Wrote file gs://tomasmuzasmaster2021/paper/tfrecords/GZ1_Unique_Validation/all/20-1024.tfrec containing 1024 records\n",
            "Wrote file gs://tomasmuzasmaster2021/paper/tfrecords/GZ1_Unique_Validation/all/21-1024.tfrec containing 1024 records\n",
            "Wrote file gs://tomasmuzasmaster2021/paper/tfrecords/GZ1_Unique_Validation/all/22-1024.tfrec containing 1024 records\n",
            "Wrote file gs://tomasmuzasmaster2021/paper/tfrecords/GZ1_Unique_Validation/all/23-1024.tfrec containing 1024 records\n",
            "Wrote file gs://tomasmuzasmaster2021/paper/tfrecords/GZ1_Unique_Validation/all/24-1024.tfrec containing 1024 records\n",
            "Wrote file gs://tomasmuzasmaster2021/paper/tfrecords/GZ1_Unique_Validation/all/25-1024.tfrec containing 1024 records\n",
            "Wrote file gs://tomasmuzasmaster2021/paper/tfrecords/GZ1_Unique_Validation/all/26-1024.tfrec containing 1024 records\n",
            "Wrote file gs://tomasmuzasmaster2021/paper/tfrecords/GZ1_Unique_Validation/all/27-1024.tfrec containing 1024 records\n",
            "Wrote file gs://tomasmuzasmaster2021/paper/tfrecords/GZ1_Unique_Validation/all/28-1024.tfrec containing 1024 records\n",
            "Wrote file gs://tomasmuzasmaster2021/paper/tfrecords/GZ1_Unique_Validation/all/29-1024.tfrec containing 1024 records\n",
            "Wrote file gs://tomasmuzasmaster2021/paper/tfrecords/GZ1_Unique_Validation/all/30-1024.tfrec containing 1024 records\n",
            "Wrote file gs://tomasmuzasmaster2021/paper/tfrecords/GZ1_Unique_Validation/all/31-1024.tfrec containing 1024 records\n",
            "Wrote file gs://tomasmuzasmaster2021/paper/tfrecords/GZ1_Unique_Validation/all/32-1024.tfrec containing 1024 records\n",
            "Wrote file gs://tomasmuzasmaster2021/paper/tfrecords/GZ1_Unique_Validation/all/33-1024.tfrec containing 1024 records\n",
            "Wrote file gs://tomasmuzasmaster2021/paper/tfrecords/GZ1_Unique_Validation/all/34-1024.tfrec containing 1024 records\n",
            "Wrote file gs://tomasmuzasmaster2021/paper/tfrecords/GZ1_Unique_Validation/all/35-1024.tfrec containing 1024 records\n",
            "Wrote file gs://tomasmuzasmaster2021/paper/tfrecords/GZ1_Unique_Validation/all/36-1024.tfrec containing 1024 records\n",
            "Wrote file gs://tomasmuzasmaster2021/paper/tfrecords/GZ1_Unique_Validation/all/37-1024.tfrec containing 1024 records\n",
            "Wrote file gs://tomasmuzasmaster2021/paper/tfrecords/GZ1_Unique_Validation/all/38-1024.tfrec containing 1024 records\n",
            "Wrote file gs://tomasmuzasmaster2021/paper/tfrecords/GZ1_Unique_Validation/all/39-1024.tfrec containing 1024 records\n",
            "Wrote file gs://tomasmuzasmaster2021/paper/tfrecords/GZ1_Unique_Validation/all/40-1024.tfrec containing 1024 records\n",
            "Wrote file gs://tomasmuzasmaster2021/paper/tfrecords/GZ1_Unique_Validation/all/41-1024.tfrec containing 1024 records\n",
            "Wrote file gs://tomasmuzasmaster2021/paper/tfrecords/GZ1_Unique_Validation/all/42-1024.tfrec containing 1024 records\n",
            "Wrote file gs://tomasmuzasmaster2021/paper/tfrecords/GZ1_Unique_Validation/all/43-1024.tfrec containing 1024 records\n",
            "Wrote file gs://tomasmuzasmaster2021/paper/tfrecords/GZ1_Unique_Validation/all/44-1024.tfrec containing 1024 records\n",
            "Wrote file gs://tomasmuzasmaster2021/paper/tfrecords/GZ1_Unique_Validation/all/45-1024.tfrec containing 1024 records\n",
            "Wrote file gs://tomasmuzasmaster2021/paper/tfrecords/GZ1_Unique_Validation/all/46-1024.tfrec containing 1024 records\n",
            "Wrote file gs://tomasmuzasmaster2021/paper/tfrecords/GZ1_Unique_Validation/all/47-1024.tfrec containing 1024 records\n",
            "Wrote file gs://tomasmuzasmaster2021/paper/tfrecords/GZ1_Unique_Validation/all/48-1024.tfrec containing 1024 records\n",
            "Wrote file gs://tomasmuzasmaster2021/paper/tfrecords/GZ1_Unique_Validation/all/49-1024.tfrec containing 1024 records\n",
            "Wrote file gs://tomasmuzasmaster2021/paper/tfrecords/GZ1_Unique_Validation/all/50-1024.tfrec containing 1024 records\n",
            "Wrote file gs://tomasmuzasmaster2021/paper/tfrecords/GZ1_Unique_Validation/all/51-1024.tfrec containing 1024 records\n",
            "Wrote file gs://tomasmuzasmaster2021/paper/tfrecords/GZ1_Unique_Validation/all/52-1024.tfrec containing 1024 records\n",
            "Wrote file gs://tomasmuzasmaster2021/paper/tfrecords/GZ1_Unique_Validation/all/53-1024.tfrec containing 1024 records\n",
            "Wrote file gs://tomasmuzasmaster2021/paper/tfrecords/GZ1_Unique_Validation/all/54-1024.tfrec containing 1024 records\n",
            "Wrote file gs://tomasmuzasmaster2021/paper/tfrecords/GZ1_Unique_Validation/all/55-1024.tfrec containing 1024 records\n",
            "Wrote file gs://tomasmuzasmaster2021/paper/tfrecords/GZ1_Unique_Validation/all/56-1024.tfrec containing 1024 records\n",
            "Wrote file gs://tomasmuzasmaster2021/paper/tfrecords/GZ1_Unique_Validation/all/57-1024.tfrec containing 1024 records\n",
            "Wrote file gs://tomasmuzasmaster2021/paper/tfrecords/GZ1_Unique_Validation/all/58-1024.tfrec containing 1024 records\n",
            "Wrote file gs://tomasmuzasmaster2021/paper/tfrecords/GZ1_Unique_Validation/all/59-1024.tfrec containing 1024 records\n",
            "Wrote file gs://tomasmuzasmaster2021/paper/tfrecords/GZ1_Unique_Validation/all/60-1024.tfrec containing 1024 records\n",
            "Wrote file gs://tomasmuzasmaster2021/paper/tfrecords/GZ1_Unique_Validation/all/61-1024.tfrec containing 1024 records\n",
            "Wrote file gs://tomasmuzasmaster2021/paper/tfrecords/GZ1_Unique_Validation/all/62-1024.tfrec containing 1024 records\n",
            "Wrote file gs://tomasmuzasmaster2021/paper/tfrecords/GZ1_Unique_Validation/all/63-1024.tfrec containing 1024 records\n",
            "Wrote file gs://tomasmuzasmaster2021/paper/tfrecords/GZ1_Unique_Validation/all/64-1024.tfrec containing 1024 records\n",
            "Wrote file gs://tomasmuzasmaster2021/paper/tfrecords/GZ1_Unique_Validation/all/65-1024.tfrec containing 1024 records\n",
            "Wrote file gs://tomasmuzasmaster2021/paper/tfrecords/GZ1_Unique_Validation/all/66-1024.tfrec containing 1024 records\n",
            "Wrote file gs://tomasmuzasmaster2021/paper/tfrecords/GZ1_Unique_Validation/all/67-1024.tfrec containing 1024 records\n",
            "Wrote file gs://tomasmuzasmaster2021/paper/tfrecords/GZ1_Unique_Validation/all/68-1024.tfrec containing 1024 records\n",
            "Wrote file gs://tomasmuzasmaster2021/paper/tfrecords/GZ1_Unique_Validation/all/69-1024.tfrec containing 1024 records\n",
            "Wrote file gs://tomasmuzasmaster2021/paper/tfrecords/GZ1_Unique_Validation/all/70-1024.tfrec containing 1024 records\n",
            "Wrote file gs://tomasmuzasmaster2021/paper/tfrecords/GZ1_Unique_Validation/all/71-1024.tfrec containing 1024 records\n",
            "Wrote file gs://tomasmuzasmaster2021/paper/tfrecords/GZ1_Unique_Validation/all/72-1024.tfrec containing 1024 records\n",
            "Wrote file gs://tomasmuzasmaster2021/paper/tfrecords/GZ1_Unique_Validation/all/73-1024.tfrec containing 1024 records\n",
            "Wrote file gs://tomasmuzasmaster2021/paper/tfrecords/GZ1_Unique_Validation/all/74-1024.tfrec containing 1024 records\n",
            "Wrote file gs://tomasmuzasmaster2021/paper/tfrecords/GZ1_Unique_Validation/all/75-1024.tfrec containing 1024 records\n",
            "Wrote file gs://tomasmuzasmaster2021/paper/tfrecords/GZ1_Unique_Validation/all/76-1024.tfrec containing 1024 records\n",
            "Wrote file gs://tomasmuzasmaster2021/paper/tfrecords/GZ1_Unique_Validation/all/77-1024.tfrec containing 1024 records\n",
            "Wrote file gs://tomasmuzasmaster2021/paper/tfrecords/GZ1_Unique_Validation/all/78-1024.tfrec containing 1024 records\n",
            "Wrote file gs://tomasmuzasmaster2021/paper/tfrecords/GZ1_Unique_Validation/all/79-1024.tfrec containing 1024 records\n",
            "Wrote file gs://tomasmuzasmaster2021/paper/tfrecords/GZ1_Unique_Validation/all/80-1024.tfrec containing 1024 records\n",
            "Wrote file gs://tomasmuzasmaster2021/paper/tfrecords/GZ1_Unique_Validation/all/81-1024.tfrec containing 1024 records\n",
            "Wrote file gs://tomasmuzasmaster2021/paper/tfrecords/GZ1_Unique_Validation/all/82-1024.tfrec containing 1024 records\n",
            "Wrote file gs://tomasmuzasmaster2021/paper/tfrecords/GZ1_Unique_Validation/all/83-1024.tfrec containing 1024 records\n",
            "Wrote file gs://tomasmuzasmaster2021/paper/tfrecords/GZ1_Unique_Validation/all/84-1024.tfrec containing 1024 records\n",
            "Wrote file gs://tomasmuzasmaster2021/paper/tfrecords/GZ1_Unique_Validation/all/85-1024.tfrec containing 1024 records\n",
            "Wrote file gs://tomasmuzasmaster2021/paper/tfrecords/GZ1_Unique_Validation/all/86-1024.tfrec containing 1024 records\n",
            "Wrote file gs://tomasmuzasmaster2021/paper/tfrecords/GZ1_Unique_Validation/all/87-1024.tfrec containing 1024 records\n",
            "Wrote file gs://tomasmuzasmaster2021/paper/tfrecords/GZ1_Unique_Validation/all/88-1024.tfrec containing 1024 records\n",
            "Wrote file gs://tomasmuzasmaster2021/paper/tfrecords/GZ1_Unique_Validation/all/89-1024.tfrec containing 1024 records\n",
            "Wrote file gs://tomasmuzasmaster2021/paper/tfrecords/GZ1_Unique_Validation/all/90-1024.tfrec containing 1024 records\n",
            "Wrote file gs://tomasmuzasmaster2021/paper/tfrecords/GZ1_Unique_Validation/all/91-1024.tfrec containing 1024 records\n",
            "Wrote file gs://tomasmuzasmaster2021/paper/tfrecords/GZ1_Unique_Validation/all/92-1024.tfrec containing 1024 records\n",
            "Wrote file gs://tomasmuzasmaster2021/paper/tfrecords/GZ1_Unique_Validation/all/93-1024.tfrec containing 1024 records\n",
            "Wrote file gs://tomasmuzasmaster2021/paper/tfrecords/GZ1_Unique_Validation/all/94-1024.tfrec containing 1024 records\n",
            "Wrote file gs://tomasmuzasmaster2021/paper/tfrecords/GZ1_Unique_Validation/all/95-1024.tfrec containing 1024 records\n",
            "Wrote file gs://tomasmuzasmaster2021/paper/tfrecords/GZ1_Unique_Validation/all/96-1024.tfrec containing 1024 records\n",
            "Wrote file gs://tomasmuzasmaster2021/paper/tfrecords/GZ1_Unique_Validation/all/97-1024.tfrec containing 1024 records\n",
            "Wrote file gs://tomasmuzasmaster2021/paper/tfrecords/GZ1_Unique_Validation/all/98-767.tfrec containing 767 records\n",
            "Done.\n"
          ]
        }
      ]
    }
  ]
}