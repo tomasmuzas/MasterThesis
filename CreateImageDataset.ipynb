{
 "cells": [
  {
   "cell_type": "code",
   "execution_count": 3,
   "metadata": {},
   "outputs": [],
   "source": [
    "import pandas as pd\n",
    "import os\n",
    "from PIL import Image"
   ]
  },
  {
   "cell_type": "markdown",
   "id": "71935101",
   "metadata": {},
   "source": [
    "# GZ2 data filtering"
   ]
  },
  {
   "cell_type": "code",
   "execution_count": 4,
   "metadata": {},
   "outputs": [
    {
     "data": {
      "text/html": [
       "<div>\n",
       "<style scoped>\n",
       "    .dataframe tbody tr th:only-of-type {\n",
       "        vertical-align: middle;\n",
       "    }\n",
       "\n",
       "    .dataframe tbody tr th {\n",
       "        vertical-align: top;\n",
       "    }\n",
       "\n",
       "    .dataframe thead th {\n",
       "        text-align: right;\n",
       "    }\n",
       "</style>\n",
       "<table border=\"1\" class=\"dataframe\">\n",
       "  <thead>\n",
       "    <tr style=\"text-align: right;\">\n",
       "      <th></th>\n",
       "      <th>Id</th>\n",
       "      <th>Class</th>\n",
       "    </tr>\n",
       "  </thead>\n",
       "  <tbody>\n",
       "    <tr>\n",
       "      <th>0</th>\n",
       "      <td>587732591714893851</td>\n",
       "      <td>Spiral</td>\n",
       "    </tr>\n",
       "    <tr>\n",
       "      <th>1</th>\n",
       "      <td>588009368545984617</td>\n",
       "      <td>Spiral</td>\n",
       "    </tr>\n",
       "    <tr>\n",
       "      <th>2</th>\n",
       "      <td>587741723357282317</td>\n",
       "      <td>Spiral</td>\n",
       "    </tr>\n",
       "    <tr>\n",
       "      <th>3</th>\n",
       "      <td>587729751132209314</td>\n",
       "      <td>Elliptical</td>\n",
       "    </tr>\n",
       "    <tr>\n",
       "      <th>4</th>\n",
       "      <td>587735742617616406</td>\n",
       "      <td>Spiral</td>\n",
       "    </tr>\n",
       "    <tr>\n",
       "      <th>...</th>\n",
       "      <td>...</td>\n",
       "      <td>...</td>\n",
       "    </tr>\n",
       "    <tr>\n",
       "      <th>154882</th>\n",
       "      <td>588297864173256986</td>\n",
       "      <td>Elliptical</td>\n",
       "    </tr>\n",
       "    <tr>\n",
       "      <th>154883</th>\n",
       "      <td>587741602566897791</td>\n",
       "      <td>Elliptical</td>\n",
       "    </tr>\n",
       "    <tr>\n",
       "      <th>154884</th>\n",
       "      <td>587734841742459081</td>\n",
       "      <td>Elliptical</td>\n",
       "    </tr>\n",
       "    <tr>\n",
       "      <th>154885</th>\n",
       "      <td>587741531712782408</td>\n",
       "      <td>Elliptical</td>\n",
       "    </tr>\n",
       "    <tr>\n",
       "      <th>154886</th>\n",
       "      <td>587741490371625059</td>\n",
       "      <td>Elliptical</td>\n",
       "    </tr>\n",
       "  </tbody>\n",
       "</table>\n",
       "<p>154887 rows × 2 columns</p>\n",
       "</div>"
      ],
      "text/plain": [
       "                        Id       Class\n",
       "0       587732591714893851      Spiral\n",
       "1       588009368545984617      Spiral\n",
       "2       587741723357282317      Spiral\n",
       "3       587729751132209314  Elliptical\n",
       "4       587735742617616406      Spiral\n",
       "...                    ...         ...\n",
       "154882  588297864173256986  Elliptical\n",
       "154883  587741602566897791  Elliptical\n",
       "154884  587734841742459081  Elliptical\n",
       "154885  587741531712782408  Elliptical\n",
       "154886  587741490371625059  Elliptical\n",
       "\n",
       "[154887 rows x 2 columns]"
      ]
     },
     "execution_count": 4,
     "metadata": {},
     "output_type": "execute_result"
    }
   ],
   "source": [
    "gz2_data = pd.read_csv(\"../data/gz2_hart16.csv\")\n",
    "gz2_no_artifacts = gz2_data[gz2_data['gz2_class'] != 'A']\n",
    "gz2_clean = gz2_no_artifacts[(gz2_no_artifacts['t01_smooth_or_features_a02_features_or_disk_flag'] == 1) | (gz2_no_artifacts['t01_smooth_or_features_a01_smooth_flag'] == 1)]\n",
    "gz2_clean_unambiguous = gz2_clean[~((gz2_clean['t01_smooth_or_features_a02_features_or_disk_flag'] == 1) & (gz2_clean['t01_smooth_or_features_a01_smooth_flag'] == 1))].reset_index(drop=True)\n",
    "gz2_clean_unambiguous[\"Class\"] = gz2_clean_unambiguous.apply(lambda r: \"Spiral\" if r[\"gz2_class\"][0] == \"S\" else \"Elliptical\", axis=1)\n",
    "gz2_clean_unambiguous = gz2_clean_unambiguous.rename(columns={\"dr7objid\": \"Id\"})\n",
    "gz2_transformed = gz2_clean_unambiguous[[\"Id\", \"Class\"]]\n",
    "gz2_transformed"
   ]
  },
  {
   "cell_type": "markdown",
   "id": "76fe6615",
   "metadata": {},
   "source": [
    "# GZ1 data filtering"
   ]
  },
  {
   "cell_type": "code",
   "execution_count": 5,
   "id": "8a79ac81",
   "metadata": {},
   "outputs": [
    {
     "data": {
      "text/html": [
       "<div>\n",
       "<style scoped>\n",
       "    .dataframe tbody tr th:only-of-type {\n",
       "        vertical-align: middle;\n",
       "    }\n",
       "\n",
       "    .dataframe tbody tr th {\n",
       "        vertical-align: top;\n",
       "    }\n",
       "\n",
       "    .dataframe thead th {\n",
       "        text-align: right;\n",
       "    }\n",
       "</style>\n",
       "<table border=\"1\" class=\"dataframe\">\n",
       "  <thead>\n",
       "    <tr style=\"text-align: right;\">\n",
       "      <th></th>\n",
       "      <th>Id</th>\n",
       "      <th>Class</th>\n",
       "    </tr>\n",
       "  </thead>\n",
       "  <tbody>\n",
       "    <tr>\n",
       "      <th>0</th>\n",
       "      <td>587727227300741210</td>\n",
       "      <td>Spiral</td>\n",
       "    </tr>\n",
       "    <tr>\n",
       "      <th>1</th>\n",
       "      <td>587730774962536596</td>\n",
       "      <td>Elliptical</td>\n",
       "    </tr>\n",
       "    <tr>\n",
       "      <th>2</th>\n",
       "      <td>587727223024189605</td>\n",
       "      <td>Spiral</td>\n",
       "    </tr>\n",
       "    <tr>\n",
       "      <th>3</th>\n",
       "      <td>587727221950382424</td>\n",
       "      <td>Spiral</td>\n",
       "    </tr>\n",
       "    <tr>\n",
       "      <th>4</th>\n",
       "      <td>587727178449485858</td>\n",
       "      <td>Spiral</td>\n",
       "    </tr>\n",
       "    <tr>\n",
       "      <th>...</th>\n",
       "      <td>...</td>\n",
       "      <td>...</td>\n",
       "    </tr>\n",
       "    <tr>\n",
       "      <th>252410</th>\n",
       "      <td>587727225153257594</td>\n",
       "      <td>Spiral</td>\n",
       "    </tr>\n",
       "    <tr>\n",
       "      <th>252411</th>\n",
       "      <td>587727227837612104</td>\n",
       "      <td>Spiral</td>\n",
       "    </tr>\n",
       "    <tr>\n",
       "      <th>252412</th>\n",
       "      <td>587730774962536585</td>\n",
       "      <td>Spiral</td>\n",
       "    </tr>\n",
       "    <tr>\n",
       "      <th>252413</th>\n",
       "      <td>587727226763870322</td>\n",
       "      <td>Spiral</td>\n",
       "    </tr>\n",
       "    <tr>\n",
       "      <th>252414</th>\n",
       "      <td>587727177912615023</td>\n",
       "      <td>Spiral</td>\n",
       "    </tr>\n",
       "  </tbody>\n",
       "</table>\n",
       "<p>252415 rows × 2 columns</p>\n",
       "</div>"
      ],
      "text/plain": [
       "                        Id       Class\n",
       "0       587727227300741210      Spiral\n",
       "1       587730774962536596  Elliptical\n",
       "2       587727223024189605      Spiral\n",
       "3       587727221950382424      Spiral\n",
       "4       587727178449485858      Spiral\n",
       "...                    ...         ...\n",
       "252410  587727225153257594      Spiral\n",
       "252411  587727227837612104      Spiral\n",
       "252412  587730774962536585      Spiral\n",
       "252413  587727226763870322      Spiral\n",
       "252414  587727177912615023      Spiral\n",
       "\n",
       "[252415 rows x 2 columns]"
      ]
     },
     "execution_count": 5,
     "metadata": {},
     "output_type": "execute_result"
    }
   ],
   "source": [
    "# from astropy.coordinates import SkyCoord\n",
    "# from astropy import units as unit\n",
    "\n",
    "# def map_ra_dec(ra, dec):\n",
    "#     coords = SkyCoord(ra, dec, unit=(unit.deg, unit.deg)).transform_to(\"fk5\")\n",
    "#     print(coords)\n",
    "#     return (coords.ra, coords.dec)\n",
    "\n",
    "\n",
    "gz1_data = pd.read_csv(\"../data/GalaxyZoo1_DR_table2.csv\")\n",
    "gz1_clean = gz1_data[(gz1_data[\"SPIRAL\"] == 1) | (gz1_data[\"ELLIPTICAL\"] == 1)].reset_index(drop=True)\n",
    "gz1_clean[\"Class\"] = gz1_clean.apply(lambda r: \"Spiral\" if r[\"SPIRAL\"] == 1 else \"Elliptical\", axis=1)\n",
    "# gz1_clean[\"ra\"], gz1_clean[\"dec\"] = gz1_clean.apply(lambda r: map_ra_dec(r[\"RA\"], r[\"DEC\"]), axis=1)\n",
    "gz1_clean = gz1_clean.rename(columns={\"OBJID\": \"Id\"})\n",
    "gz1_transformed = gz1_clean[[\"Id\", \"Class\"]]\n",
    "gz1_transformed"
   ]
  },
  {
   "cell_type": "markdown",
   "id": "cdeb8af9",
   "metadata": {},
   "source": [
    "# Merge datasets, remove galaxies with non-matching predictions"
   ]
  },
  {
   "cell_type": "code",
   "execution_count": null,
   "id": "28246b93",
   "metadata": {},
   "outputs": [],
   "source": [
    "combined_dataset = pd.merge(gz1_transformed, gz2_transformed, on=\"Id\", how=\"outer\", suffixes=(\"_gz1\", \"_gz2\"))\n",
    "print(\"GZ1 + GZ2 - intersection:\", len(gz1_transformed) + len(gz2_transformed) - len(gz2_transformed[gz2_transformed[\"Id\"].isin(gz1_transformed[\"Id\"])]))\n",
    "print(\"Merged dataset:\", len(combined_dataset))\n",
    "both_predictions_present = combined_dataset[(~combined_dataset[\"Class_gz1\"].isna()) & (~combined_dataset[\"Class_gz2\"].isna())]\n",
    "both_predictions_present\n",
    "predictions_not_matching = both_predictions_present[both_predictions_present[\"Class_gz1\"] != both_predictions_present[\"Class_gz2\"]]\n",
    "print(\"Predictions that don't match:\", len(predictions_not_matching))\n",
    "final_combined_dataset = combined_dataset.drop(predictions_not_matching.index).reset_index(drop=True)\n",
    "\n",
    "final_combined_dataset[\"Class\"] = final_combined_dataset.apply(lambda r: r[\"Class_gz2\"] if pd.isna(r[\"Class_gz1\"]) else r[\"Class_gz1\"], axis=1)\n",
    "final_combined_dataset[\"InitialDataset\"] = final_combined_dataset.apply(lambda r: \"Both\" if r[\"Class_gz1\"] == r[\"Class_gz2\"] else \"GZ2\" if pd.isna(r[\"Class_gz1\"]) else \"GZ1\", axis=1)\n",
    "final_combined_dataset.to_csv('../data/final_dataset_classes.csv', header=True, index=False)\n",
    "final_combined_dataset[final_combined_dataset[\"Id\" == \"587729781738307895\"]]"
   ]
  },
  {
   "cell_type": "code",
   "execution_count": 14,
   "id": "f1a80fb5",
   "metadata": {},
   "outputs": [
    {
     "data": {
      "text/html": [
       "<div>\n",
       "<style scoped>\n",
       "    .dataframe tbody tr th:only-of-type {\n",
       "        vertical-align: middle;\n",
       "    }\n",
       "\n",
       "    .dataframe tbody tr th {\n",
       "        vertical-align: top;\n",
       "    }\n",
       "\n",
       "    .dataframe thead th {\n",
       "        text-align: right;\n",
       "    }\n",
       "</style>\n",
       "<table border=\"1\" class=\"dataframe\">\n",
       "  <thead>\n",
       "    <tr style=\"text-align: right;\">\n",
       "      <th></th>\n",
       "      <th>Id</th>\n",
       "      <th>Class_gz1</th>\n",
       "      <th>Class_gz2</th>\n",
       "      <th>Class</th>\n",
       "      <th>InitialDataset</th>\n",
       "    </tr>\n",
       "  </thead>\n",
       "  <tbody>\n",
       "    <tr>\n",
       "      <th>304191</th>\n",
       "      <td>587729781738307895</td>\n",
       "      <td>NaN</td>\n",
       "      <td>Elliptical</td>\n",
       "      <td>Elliptical</td>\n",
       "      <td>GZ2</td>\n",
       "    </tr>\n",
       "  </tbody>\n",
       "</table>\n",
       "</div>"
      ],
      "text/plain": [
       "                        Id Class_gz1   Class_gz2       Class InitialDataset\n",
       "304191  587729781738307895       NaN  Elliptical  Elliptical            GZ2"
      ]
     },
     "execution_count": 14,
     "metadata": {},
     "output_type": "execute_result"
    }
   ],
   "source": [
    "final_combined_dataset[final_combined_dataset[\"Id\"] == 587729781738307895]"
   ]
  },
  {
   "cell_type": "code",
   "execution_count": 72,
   "id": "17a34937",
   "metadata": {},
   "outputs": [
    {
     "data": {
      "text/plain": [
       "0         0.077923\n",
       "1         0.071558\n",
       "2         0.071975\n",
       "3         0.054841\n",
       "4         0.080338\n",
       "            ...   \n",
       "315236    0.046335\n",
       "315237    0.077674\n",
       "315238    0.112736\n",
       "315239    0.118850\n",
       "315240    0.025774\n",
       "Name: z, Length: 315168, dtype: float64"
      ]
     },
     "execution_count": 72,
     "metadata": {},
     "output_type": "execute_result"
    }
   ],
   "source": [
    "final_combined_dataset_with_redshift = pd.read_csv(\"../data/CombinedGalaxyDatasetWithRedshift_tomasmuzas_1.csv\")\n",
    "final_combined_dataset_with_redshift[final_combined_dataset_with_redshift[\"z\"] < 0.4][\"z\"]"
   ]
  },
  {
   "cell_type": "markdown",
   "id": "82929076",
   "metadata": {},
   "source": [
    "# Prepare dataset splits"
   ]
  },
  {
   "cell_type": "code",
   "execution_count": 7,
   "metadata": {},
   "outputs": [
    {
     "name": "stdout",
     "output_type": "stream",
     "text": [
      "Spiral        0.711134\n",
      "Elliptical    0.288866\n",
      "Name: Class, dtype: float64\n",
      "Spiral        0.710673\n",
      "Elliptical    0.289327\n",
      "Name: Class, dtype: float64\n",
      "Spiral        0.714693\n",
      "Elliptical    0.285307\n",
      "Name: Class, dtype: float64\n"
     ]
    }
   ],
   "source": [
    "# Shuffle the data\n",
    "all_data = final_combined_dataset.sample(frac=1, random_state= 777).reset_index(drop=True)\n",
    "\n",
    "training_data = all_data.sample(frac= 0.8, replace= False, random_state= 777).sort_index()\n",
    "validation_and_test_data = all_data.drop(training_data.index)\n",
    "\n",
    "validation_data = validation_and_test_data.sample(frac= 0.5, replace= False, random_state= 777)\n",
    "test_data = validation_and_test_data.drop(validation_data.index)\n",
    "\n",
    "print(training_data[\"Class\"].value_counts(normalize= True))\n",
    "print(validation_data[\"Class\"].value_counts(normalize= True))\n",
    "print(test_data[\"Class\"].value_counts(normalize= True))"
   ]
  },
  {
   "cell_type": "code",
   "execution_count": 34,
   "id": "f4ad82fd",
   "metadata": {},
   "outputs": [
    {
     "name": "stdout",
     "output_type": "stream",
     "text": [
      "247.0 0\n",
      "31.0 0\n",
      "31.0 0\n"
     ]
    }
   ],
   "source": [
    "BATCH_SIZE = 1024\n",
    "\n",
    "def pad_dataset_with_existing_values(dataset):\n",
    "    remaining = BATCH_SIZE - (len(dataset) % BATCH_SIZE)\n",
    "    padding_data = dataset.sample(n=remaining, random_state= 777)\n",
    "    return dataset.append(padding_data, ignore_index=True)\n",
    "\n",
    "padded_training_dataset = pad_dataset_with_existing_values(training_data)\n",
    "padded_validation_dataset = pad_dataset_with_existing_values(validation_data)\n",
    "padded_test_dataset = pad_dataset_with_existing_values(test_data)\n",
    "print(len(padded_training_dataset) / BATCH_SIZE, len(padded_training_dataset) % BATCH_SIZE)\n",
    "print(len(padded_validation_dataset) / BATCH_SIZE, len(padded_validation_dataset) % BATCH_SIZE)\n",
    "print(len(padded_test_dataset) / BATCH_SIZE, len(padded_test_dataset) % BATCH_SIZE)"
   ]
  },
  {
   "cell_type": "code",
   "execution_count": 8,
   "metadata": {},
   "outputs": [],
   "source": [
    "import os\n",
    "from tqdm import tqdm_notebook\n",
    "\n",
    "def map_frame(frame):\n",
    "    return frame.apply(lambda row:\n",
    "    (\n",
    "        row['Id'],\n",
    "        row['Class']\n",
    "    ), axis=1)\n",
    "\n",
    "def create_dataset(name, dataset):\n",
    "    os.makedirs(name)\n",
    "    os.makedirs(name + \"/\" + \"Spiral\")\n",
    "    os.makedirs(name + \"/\" + \"Elliptical\")\n",
    "\n",
    "    galaxies = map_frame(dataset)\n",
    "\n",
    "    failed_galaxies = []\n",
    "    for galaxy in tqdm_notebook(galaxies):\n",
    "        try:\n",
    "            filename = str(galaxy[0]) + \".jpg\"\n",
    "            image = Image.open(\"../data/resized_images/\" + filename)\n",
    "            image.save(f\"{name}/{galaxy[1]}/{filename}\")\n",
    "        except Exception as e:\n",
    "            failed_galaxies.append(galaxy[0])\n",
    "\n",
    "    print(\"Failed to process:\", len(failed_galaxies))\n",
    "    return failed_galaxies"
   ]
  },
  {
   "cell_type": "code",
   "execution_count": 9,
   "metadata": {},
   "outputs": [
    {
     "name": "stderr",
     "output_type": "stream",
     "text": [
      "<ipython-input-8-3a0e6b3d84b1>:19: TqdmDeprecationWarning: This function will be removed in tqdm==5.0.0\n",
      "Please use `tqdm.notebook.tqdm` instead of `tqdm.tqdm_notebook`\n",
      "  for galaxy in tqdm_notebook(galaxies):\n"
     ]
    },
    {
     "data": {
      "application/vnd.jupyter.widget-view+json": {
       "model_id": "a36164b940c44e8fba1f21e146f1f6bb",
       "version_major": 2,
       "version_minor": 0
      },
      "text/plain": [
       "  0%|          | 0/252754 [00:00<?, ?it/s]"
      ]
     },
     "metadata": {},
     "output_type": "display_data"
    },
    {
     "name": "stdout",
     "output_type": "stream",
     "text": [
      "Failed to process: 0\n"
     ]
    },
    {
     "data": {
      "application/vnd.jupyter.widget-view+json": {
       "model_id": "483d02bba6f140d7866fde45e12bf812",
       "version_major": 2,
       "version_minor": 0
      },
      "text/plain": [
       "  0%|          | 0/31594 [00:00<?, ?it/s]"
      ]
     },
     "metadata": {},
     "output_type": "display_data"
    },
    {
     "name": "stdout",
     "output_type": "stream",
     "text": [
      "Failed to process: 0\n"
     ]
    },
    {
     "data": {
      "application/vnd.jupyter.widget-view+json": {
       "model_id": "791a964ef3df49608be842e0294d20b6",
       "version_major": 2,
       "version_minor": 0
      },
      "text/plain": [
       "  0%|          | 0/31594 [00:00<?, ?it/s]"
      ]
     },
     "metadata": {},
     "output_type": "display_data"
    },
    {
     "name": "stdout",
     "output_type": "stream",
     "text": [
      "Failed to process: 0\n"
     ]
    }
   ],
   "source": [
    "failed_training_galaxies = create_dataset(\"../data/Dataset/CombinedDataset_Training\", training_data)\n",
    "failed_validation_galaxies =  create_dataset(\"../data/Dataset/CombinedDataset_Validation\", validation_data)\n",
    "failed_test_galaxies = create_dataset(\"../data/Dataset/CombinedDataset_Test\", test_data)"
   ]
  }
 ],
 "metadata": {
  "interpreter": {
   "hash": "76a289fea48bb0e52146de1f0913b4e417e2efe093daf61f48b9eb2d4d57bbcb"
  },
  "kernelspec": {
   "display_name": "Python 3.8.8 64-bit ('data_analysis_env': conda)",
   "name": "python3"
  },
  "language_info": {
   "codemirror_mode": {
    "name": "ipython",
    "version": 3
   },
   "file_extension": ".py",
   "mimetype": "text/x-python",
   "name": "python",
   "nbconvert_exporter": "python",
   "pygments_lexer": "ipython3",
   "version": "3.8.8"
  }
 },
 "nbformat": 4,
 "nbformat_minor": 5
}
